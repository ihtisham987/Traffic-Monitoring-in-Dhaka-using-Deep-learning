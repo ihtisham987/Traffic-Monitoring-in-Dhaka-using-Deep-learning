{
 "cells": [
  {
   "cell_type": "code",
   "execution_count": 2,
   "id": "3717fed4",
   "metadata": {},
   "outputs": [],
   "source": [
    "import pathlib\n",
    "import random\n",
    "import shutil\n",
    "import sys\n",
    "import xml.etree.ElementTree as ET\n",
    "\n",
    "import matplotlib.pyplot as plt\n",
    "import pandas as pd\n",
    "from pathlib import Path\n",
    "import torch\n",
    "import ultralytics\n",
    "import yaml\n",
    "from IPython import display\n",
    "from PIL import Image\n",
    "from tqdm.notebook import tqdm\n",
    "from ultralytics import YOLO"
   ]
  },
  {
   "cell_type": "code",
   "execution_count": 3,
   "id": "b150ffc5",
   "metadata": {},
   "outputs": [
    {
     "name": "stdout",
     "output_type": "stream",
     "text": [
      "Platform: win32\n",
      "Python version: 3.11.4 (tags/v3.11.4:d2340ef, Jun  7 2023, 05:45:37) [MSC v.1934 64 bit (AMD64)]\n",
      "---\n",
      "matplotlib version: 3.10.3\n",
      "pandas version: 2.3.1\n",
      "PIL version: 11.3.0\n",
      "PyYAML version: 6.0.2\n",
      "torch version: 2.7.1+cpu\n",
      "ultralytics version: 8.3.195\n"
     ]
    }
   ],
   "source": [
    "print(\"Platform:\", sys.platform)\n",
    "print(\"Python version:\", sys.version)\n",
    "print(\"---\")\n",
    "print(\"matplotlib version:\", plt.matplotlib.__version__)\n",
    "print(\"pandas version:\", pd.__version__)\n",
    "print(\"PIL version:\", Image.__version__)\n",
    "print(\"PyYAML version:\", yaml.__version__)\n",
    "print(\"torch version:\", torch.__version__)\n",
    "print(\"ultralytics version:\", ultralytics.__version__)"
   ]
  },
  {
   "cell_type": "code",
   "execution_count": 4,
   "id": "cd744e55",
   "metadata": {},
   "outputs": [
    {
     "name": "stdout",
     "output_type": "stream",
     "text": [
      "Using cpu device.\n"
     ]
    }
   ],
   "source": [
    "if torch.cuda.is_available():\n",
    "    device = torch.device(\"cuda\")\n",
    "else:\n",
    "    device = torch.device(\"cpu\")\n",
    "\n",
    "print(f\"Using {device} device.\")"
   ]
  },
  {
   "cell_type": "code",
   "execution_count": 5,
   "id": "6a9cfdc0",
   "metadata": {},
   "outputs": [
    {
     "name": "stdout",
     "output_type": "stream",
     "text": [
      "Too many parameters - --filelimit=10\n"
     ]
    }
   ],
   "source": [
    "!tree data_images --filelimit=10"
   ]
  },
  {
   "cell_type": "code",
   "execution_count": null,
   "id": "ae0bbcd0",
   "metadata": {},
   "outputs": [],
   "source": []
  },
  {
   "cell_type": "code",
   "execution_count": null,
   "id": "a9e48bca",
   "metadata": {},
   "outputs": [],
   "source": []
  }
 ],
 "metadata": {
  "kernelspec": {
   "display_name": "Python 3",
   "language": "python",
   "name": "python3"
  },
  "language_info": {
   "codemirror_mode": {
    "name": "ipython",
    "version": 3
   },
   "file_extension": ".py",
   "mimetype": "text/x-python",
   "name": "python",
   "nbconvert_exporter": "python",
   "pygments_lexer": "ipython3",
   "version": "3.11.4"
  }
 },
 "nbformat": 4,
 "nbformat_minor": 5
}
